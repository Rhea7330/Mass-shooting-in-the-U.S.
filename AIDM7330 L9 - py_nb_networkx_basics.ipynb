{
 "cells": [
  {
   "cell_type": "markdown",
   "metadata": {},
   "source": [
    "# AIDM7330 Basic Programming for Data Science"
   ]
  },
  {
   "cell_type": "markdown",
   "metadata": {},
   "source": [
    "# Graph analysis and exploration with NetworkX\n",
    "\n",
    "`NetworkX` is a Python language software package for the creation, manipulation, and study of the structure, dynamics, and functions of complex networks. \n",
    "\n",
    "- Python language data structures for directed and unirected graphs as well as multigraphs\n",
    "- Nodes can be text, images, XML records, etc.\n",
    "- Edges can hold arbitrary data, such as weights, time-series, etc.\n",
    "- Includes standard graph algorithms as well as network structure and analysis measures\n",
    "- Functions for (basic) graph representation are included\n",
    "\n",
    "## Basic graph functions\n",
    "\n",
    "Create an undirected graph. It will contain nodes and edges iterator (similar to lists)"
   ]
  },
  {
   "cell_type": "code",
   "execution_count": null,
   "metadata": {},
   "outputs": [],
   "source": [
    "# Install NetworkX using pip package in the current Jupyter kernel\n",
    "import sys\n",
    "!{sys.executable} -m pip install networkx"
   ]
  },
  {
   "cell_type": "code",
   "execution_count": null,
   "metadata": {},
   "outputs": [],
   "source": [
    "import matplotlib.pyplot as plt\n",
    "%matplotlib inline\n",
    "import warnings\n",
    "warnings.filterwarnings(\"ignore\", category=UserWarning)\n",
    "\n",
    "import networkx as nx\n",
    "\n",
    "G=nx.Graph()\n",
    "\n",
    "print(G.nodes())\n",
    "print(G.edges())\n",
    "\n",
    "print(type(G.nodes()))\n",
    "print(type(G.edges()))"
   ]
  },
  {
   "cell_type": "markdown",
   "metadata": {},
   "source": [
    "### Add nodes to the graph\n",
    "\n",
    "Can be added singularly or from lists"
   ]
  },
  {
   "cell_type": "code",
   "execution_count": null,
   "metadata": {},
   "outputs": [],
   "source": [
    "# adding just one node:\n",
    "G.add_node('a')\n",
    "\n",
    "# a list of nodes:\n",
    "G.add_nodes_from(['b','c'])\n",
    "\n",
    "print('Nodes of graph: ')\n",
    "print(G.nodes())\n",
    "print('Edges of graph: ')\n",
    "print(G.edges())"
   ]
  },
  {
   "cell_type": "markdown",
   "metadata": {},
   "source": [
    "### Add edges to the graph\n",
    "\n",
    "If the start/end nodes of the edge are not included in the graph, they will be created."
   ]
  },
  {
   "cell_type": "code",
   "execution_count": null,
   "metadata": {},
   "outputs": [],
   "source": [
    "G.add_edge(1,2)\n",
    "edge = (\"d\", \"e\")\n",
    "G.add_edge(*edge)\n",
    "edge = (\"a\", \"b\")\n",
    "G.add_edge(*edge)\n",
    "\n",
    "print(\"Nodes of graph: \")\n",
    "print(G.nodes())\n",
    "print(\"Edges of graph: \")\n",
    "print(G.edges())"
   ]
  },
  {
   "cell_type": "markdown",
   "metadata": {},
   "source": [
    "You can add also edges from a list of tuples."
   ]
  },
  {
   "cell_type": "code",
   "execution_count": null,
   "metadata": {
    "scrolled": true
   },
   "outputs": [],
   "source": [
    "# adding a list of edges:\n",
    "G.add_edges_from([(\"a\",\"c\"),(\"c\",\"d\"), (\"a\",1), (1,\"d\"), (\"a\",2)])\n",
    "print(\"Nodes of graph: \")\n",
    "print(G.nodes())\n",
    "print(\"Edges of graph: \")\n",
    "print(G.edges())"
   ]
  },
  {
   "cell_type": "markdown",
   "metadata": {},
   "source": [
    "## Visualize a graph"
   ]
  },
  {
   "cell_type": "code",
   "execution_count": null,
   "metadata": {
    "scrolled": true
   },
   "outputs": [],
   "source": [
    "plt.figure(figsize=(5,5))\n",
    "nx.draw_networkx(G);"
   ]
  },
  {
   "cell_type": "markdown",
   "metadata": {},
   "source": [
    "Let's try changing the network layout"
   ]
  },
  {
   "cell_type": "code",
   "execution_count": null,
   "metadata": {
    "scrolled": true
   },
   "outputs": [],
   "source": [
    "layout=nx.spring_layout(G)\n",
    "nx.draw_networkx(G, layout, node_shape='D', with_labels=True);"
   ]
  },
  {
   "cell_type": "markdown",
   "metadata": {},
   "source": [
    "## Generate a path graph"
   ]
  },
  {
   "cell_type": "code",
   "execution_count": null,
   "metadata": {
    "scrolled": true
   },
   "outputs": [],
   "source": [
    "pathG=nx.path_graph(4)\n",
    "\n",
    "print(\"Nodes of graph: \")\n",
    "print(pathG.nodes())\n",
    "print(\"Edges of graph: \")\n",
    "print(pathG.edges())\n",
    "\n",
    "plt.figure(figsize=(4,4))\n",
    "nx.draw_networkx(pathG);"
   ]
  },
  {
   "cell_type": "markdown",
   "metadata": {},
   "source": [
    "### Rename nodes"
   ]
  },
  {
   "cell_type": "code",
   "execution_count": null,
   "metadata": {
    "scrolled": true
   },
   "outputs": [],
   "source": [
    "cities = {0:\"Toronto\",1:\"London\",2:\"Berlin\",3:\"New York\"}\n",
    "\n",
    "pathG=nx.relabel_nodes(pathG,cities)\n",
    "\n",
    "print(\"Nodes of graph: \")\n",
    "print(pathG.nodes())\n",
    "print(\"Edges of graph: \")\n",
    "print(pathG.edges())\n",
    "\n",
    "plt.figure(figsize=(4,4))\n",
    "nx.draw_networkx(pathG);"
   ]
  },
  {
   "cell_type": "markdown",
   "metadata": {},
   "source": [
    "# Basic analysis\n",
    "\n",
    "## Load a CSV\n",
    "\n",
    "Using Pandas you can easily read a CSV file and create a graph in NetworkX.\n",
    "\n",
    "**Zachary's karate club** is a social network of a university karate club, described in the paper \"An Information Flow Model for Conflict and Fission in Small Groups\" by Wayne W. Zachary.\n",
    "\n",
    "The network became a popular example of community structure in networks. The network captures 34 members of a karate club, documenting links between pairs of members who interacted outside the club."
   ]
  },
  {
   "cell_type": "code",
   "execution_count": null,
   "metadata": {
    "scrolled": true
   },
   "outputs": [],
   "source": [
    "import pandas as pd\n",
    "\n",
    "#set the file parameters\n",
    "filePath = '../data/'\n",
    "fileName = 'zacharyKarateClub.csv'\n",
    "fullFileName = filePath + fileName\n",
    "\n",
    "#Load the CSV into a Pandas dataframe\n",
    "df = pd.read_csv(fullFileName)"
   ]
  },
  {
   "cell_type": "markdown",
   "metadata": {},
   "source": [
    "### Create the directed version of the graph\n",
    "\n",
    "Just for testing, this network is undirected"
   ]
  },
  {
   "cell_type": "code",
   "execution_count": null,
   "metadata": {},
   "outputs": [],
   "source": [
    "graphType = nx.DiGraph()\n",
    "karateClub = nx.from_pandas_edgelist(df, 'Source', 'Target', create_using=graphType)\n",
    "\n",
    "plt.figure(figsize=(8,8))\n",
    "nx.draw_networkx(karateClub);"
   ]
  },
  {
   "cell_type": "markdown",
   "metadata": {},
   "source": [
    "### Create the undirected version of the graph\n",
    "\n",
    "This graph is **undirected**."
   ]
  },
  {
   "cell_type": "code",
   "execution_count": null,
   "metadata": {},
   "outputs": [],
   "source": [
    "graphType = nx.Graph()\n",
    "karateClub = nx.from_pandas_edgelist(df, 'Source', 'Target', create_using=graphType)\n",
    "\n",
    "plt.figure(figsize=(8,8))\n",
    "nx.draw_networkx(karateClub);"
   ]
  },
  {
   "cell_type": "markdown",
   "metadata": {},
   "source": [
    "## Graph properties"
   ]
  },
  {
   "cell_type": "code",
   "execution_count": null,
   "metadata": {},
   "outputs": [],
   "source": [
    "numNodes = karateClub.order()\n",
    "numEdges = karateClub.size()\n",
    "avgDegree = numEdges/numNodes\n",
    "print(\"Nodes: \", numNodes)\n",
    "print(\"Edges: \", numEdges)\n",
    "print(\"Average degree: \", avgDegree)"
   ]
  },
  {
   "cell_type": "markdown",
   "metadata": {},
   "source": [
    "## Degree distribution"
   ]
  },
  {
   "cell_type": "code",
   "execution_count": null,
   "metadata": {
    "scrolled": true
   },
   "outputs": [],
   "source": [
    "import collections\n",
    "\n",
    "degree_sequence = sorted([d for n, d in karateClub.degree()], reverse=True)  # degree sequence\n",
    "# print \"Degree sequence\", degree_sequence\n",
    "degreeCount = collections.Counter(degree_sequence)\n",
    "deg, cnt = zip(*degreeCount.items())\n",
    "\n",
    "fig, ax = plt.subplots()\n",
    "plt.bar(deg, cnt, width=0.80, color='b')\n",
    "\n",
    "plt.title(\"Degree Histogram\")\n",
    "plt.ylabel(\"Count\")\n",
    "plt.xlabel(\"Degree\")\n",
    "ax.set_xticks([d + 0.4 for d in deg])\n",
    "ax.set_xticklabels(deg)\n",
    "\n",
    "plt.show();"
   ]
  },
  {
   "cell_type": "markdown",
   "metadata": {},
   "source": [
    "### Degree centrality"
   ]
  },
  {
   "cell_type": "code",
   "execution_count": null,
   "metadata": {
    "scrolled": true
   },
   "outputs": [],
   "source": [
    "degree_cent = nx.degree_centrality(karateClub)\n",
    "degree_cent\n",
    "#The degree centrality values are normalized by dividing by the maximum possible degree in a simple graph n-1 where n is the number of nodes in G. "
   ]
  },
  {
   "cell_type": "markdown",
   "metadata": {},
   "source": [
    "### Closeness centrality"
   ]
  },
  {
   "cell_type": "code",
   "execution_count": null,
   "metadata": {
    "scrolled": true
   },
   "outputs": [],
   "source": [
    "close = nx.closeness_centrality(karateClub)\n",
    "close"
   ]
  },
  {
   "cell_type": "markdown",
   "metadata": {},
   "source": [
    "### Betweenness centrality"
   ]
  },
  {
   "cell_type": "code",
   "execution_count": null,
   "metadata": {
    "scrolled": true
   },
   "outputs": [],
   "source": [
    "between = nx.betweenness_centrality(karateClub)\n",
    "between"
   ]
  },
  {
   "cell_type": "code",
   "execution_count": null,
   "metadata": {},
   "outputs": [],
   "source": [
    "# Order the nodes in dictionary by using ther ventrality value\n",
    "from operator import itemgetter\n",
    "\n",
    "print(sorted(between.items(), key=itemgetter(1), reverse = True)) "
   ]
  },
  {
   "cell_type": "markdown",
   "metadata": {},
   "source": [
    "### Eigenvector centrality"
   ]
  },
  {
   "cell_type": "code",
   "execution_count": null,
   "metadata": {
    "scrolled": true
   },
   "outputs": [],
   "source": [
    "ev = nx.eigenvector_centrality(karateClub)\n",
    "ev"
   ]
  },
  {
   "cell_type": "code",
   "execution_count": null,
   "metadata": {
    "scrolled": true
   },
   "outputs": [],
   "source": [
    "print(sorted(ev.items(), key=itemgetter(1), reverse=True))"
   ]
  },
  {
   "cell_type": "markdown",
   "metadata": {},
   "source": [
    "### PageRank"
   ]
  },
  {
   "cell_type": "code",
   "execution_count": null,
   "metadata": {},
   "outputs": [],
   "source": [
    "pr = nx.pagerank(karateClub)\n",
    "print(sorted(pr.items(), key=itemgetter(1), reverse=True))"
   ]
  },
  {
   "cell_type": "markdown",
   "metadata": {},
   "source": [
    "## Clustering coefficient (cc)\n",
    "\n",
    "### Local\n",
    "\n",
    "Local CC: the degree to which the neighbors of a given node link to each other.\n",
    "\n",
    "Average CC (averaging the local CC or all the nodes):  the degree of clustering of a whole network!"
   ]
  },
  {
   "cell_type": "code",
   "execution_count": null,
   "metadata": {
    "scrolled": true
   },
   "outputs": [],
   "source": [
    "# Local CC\n",
    "# Clustering coefficient of node 1\n",
    "clusteringNode1 = nx.clustering(karateClub, nodes = 15)\n",
    "print(clusteringNode1)"
   ]
  },
  {
   "cell_type": "code",
   "execution_count": null,
   "metadata": {
    "scrolled": false
   },
   "outputs": [],
   "source": [
    "# Local CC\n",
    "# Clustering coefficient of all nodes (in a dictionary)\n",
    "clustCoefficients = nx.clustering(karateClub)\n",
    "\n",
    "for node in clustCoefficients:\n",
    "    value = clustCoefficients[node]\n",
    "    print('Node: ', node, 'Clustering coefficient: ', value)"
   ]
  },
  {
   "cell_type": "code",
   "execution_count": null,
   "metadata": {},
   "outputs": [],
   "source": [
    "# Average CC\n",
    "avgCC = sum(clustCoefficients.values()) / len(clustCoefficients)\n",
    "print(avgCC)"
   ]
  },
  {
   "cell_type": "markdown",
   "metadata": {},
   "source": [
    "# A working example: mentioning network in #ddj\n"
   ]
  },
  {
   "cell_type": "code",
   "execution_count": null,
   "metadata": {},
   "outputs": [],
   "source": [
    "import csv\n",
    "import networkx as nx\n",
    "from operator import itemgetter"
   ]
  },
  {
   "cell_type": "code",
   "execution_count": null,
   "metadata": {},
   "outputs": [],
   "source": [
    "filePath = '../data/'\n",
    "fileName = 'ddj_output_mentioning.csv'\n",
    "fullFileName = filePath + fileName\n",
    "\n",
    "\n",
    "\n",
    "with open(fullFileName, 'r') as edgecsv: # Open the file\n",
    "    edgereader = csv.reader(edgecsv) # Read the csv     \n",
    "    edges = [tuple(e) for e in edgereader][1:] # Retrieve the data"
   ]
  },
  {
   "cell_type": "code",
   "execution_count": null,
   "metadata": {},
   "outputs": [],
   "source": [
    "edges"
   ]
  },
  {
   "cell_type": "code",
   "execution_count": null,
   "metadata": {},
   "outputs": [],
   "source": [
    "print(len(edges))"
   ]
  },
  {
   "cell_type": "code",
   "execution_count": null,
   "metadata": {},
   "outputs": [],
   "source": [
    "G = nx.Graph()\n",
    "G.add_edges_from(edges)\n",
    "print(nx.info(G))"
   ]
  },
  {
   "cell_type": "code",
   "execution_count": null,
   "metadata": {},
   "outputs": [],
   "source": [
    "density = nx.density(G)\n",
    "print(\"Network density:\", density)"
   ]
  },
  {
   "cell_type": "code",
   "execution_count": null,
   "metadata": {},
   "outputs": [],
   "source": [
    "path1 = nx.shortest_path(G, source=\"@gijn\", target=\"@GoldsmithsUoL\")\n",
    "\n",
    "print(\"Shortest path\", path1)\n",
    "print(\"Length of that path:\", len(path1)-1)"
   ]
  },
  {
   "cell_type": "code",
   "execution_count": null,
   "metadata": {},
   "outputs": [],
   "source": [
    "nx.diameter(G) "
   ]
  },
  {
   "cell_type": "code",
   "execution_count": null,
   "metadata": {},
   "outputs": [],
   "source": [
    "# If your Graph has more than one component, this will return False:\n",
    "print(nx.is_connected(G))\n",
    "\n",
    "# Next, use nx.connected_components to get the list of components,\n",
    "# then use the max() command to find the largest one:\n",
    "components = nx.connected_components(G)\n",
    "largest_component = max(components, key=len)\n",
    "\n",
    "# Create a \"subgraph\" of just the largest component\n",
    "# Then calculate the diameter of the subgraph, just like you did with density.\n",
    "\n",
    "subgraph = G.subgraph(largest_component)\n",
    "diameter = nx.diameter(subgraph)\n",
    "print(\"Network diameter of largest component:\", diameter)"
   ]
  },
  {
   "cell_type": "code",
   "execution_count": null,
   "metadata": {},
   "outputs": [],
   "source": [
    "## Centrality measures "
   ]
  },
  {
   "cell_type": "code",
   "execution_count": null,
   "metadata": {},
   "outputs": [],
   "source": [
    "degree_dict = dict(G.degree(G.nodes()))\n",
    "\n",
    "sorted_degree = sorted(degree_dict.items(), key=itemgetter(1), reverse=True)\n",
    "\n",
    "print(\"Top 20 nodes by degree:\")\n",
    "for d in sorted_degree[:20]:\n",
    "    print(d)"
   ]
  },
  {
   "cell_type": "code",
   "execution_count": null,
   "metadata": {},
   "outputs": [],
   "source": [
    "betweenness_dict = nx.betweenness_centrality(G) # Run betweenness centrality\n",
    "\n",
    "sorted_betweenness = sorted(betweenness_dict.items(), key=itemgetter(1), reverse=True)\n",
    "\n",
    "print(\"Top 20 nodes by betweenness centrality:\")\n",
    "for b in sorted_betweenness[:20]:\n",
    "    print(b)"
   ]
  },
  {
   "cell_type": "markdown",
   "metadata": {},
   "source": [
    "# Additional Resources\n",
    "https://programminghistorian.org/en/lessons/exploring-and-analyzing-network-data-with-python"
   ]
  },
  {
   "cell_type": "code",
   "execution_count": null,
   "metadata": {},
   "outputs": [],
   "source": []
  }
 ],
 "metadata": {
  "kernelspec": {
   "display_name": "Python 3",
   "language": "python",
   "name": "python3"
  },
  "language_info": {
   "codemirror_mode": {
    "name": "ipython",
    "version": 3
   },
   "file_extension": ".py",
   "mimetype": "text/x-python",
   "name": "python",
   "nbconvert_exporter": "python",
   "pygments_lexer": "ipython3",
   "version": "3.8.3"
  }
 },
 "nbformat": 4,
 "nbformat_minor": 2
}
